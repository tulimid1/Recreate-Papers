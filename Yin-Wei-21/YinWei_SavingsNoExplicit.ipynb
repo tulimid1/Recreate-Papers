{
 "cells": [
  {
   "cell_type": "markdown",
   "source": [
    "# Yin and Wei 2021 - Savings in sensorimotor adaptation without explicit strategy"
   ],
   "metadata": {}
  },
  {
   "cell_type": "code",
   "execution_count": 8,
   "source": [
    "import numpy as np\n",
    "import matplotlib.pyplot as plt\n",
    "import ipywidgets as widgets\n",
    "from ipywidgets import fixed"
   ],
   "outputs": [],
   "metadata": {}
  },
  {
   "cell_type": "markdown",
   "source": [
    "## Figure 1 "
   ],
   "metadata": {}
  },
  {
   "cell_type": "markdown",
   "source": [
    "### 30 deg CCW rotation "
   ],
   "metadata": {}
  },
  {
   "cell_type": "markdown",
   "source": [
    "In order to rotate a cursor you can use equations that take in Cartesian coordinates (x & y values), transforms them into polar coordinates (degrees or radians) of the value you want. \n",
    "\n",
    "The equations to do this are as follows where; $x_{rotated}$ is the rotated x location in Cartesian coordinates, $x_{cartesian}$ is the x Cartesian coordinate, $d$ is the degree of rotation (negative for clockwise; positive for counterclockwise), $y_{rotated}$ is the rotated y location in Cartesian coordinates, $y_{cartesian}$ is the y Cartesian coordinate: \n",
    "\n",
    "$x_{rotated} = x_{cartesian} * cos(d * \\frac{\\pi}{180}) - y_{cartesian} * sin(d * \\frac{\\pi}{180})$\n",
    "\n",
    "$y_{rotated} = x_{cartesian} * sin(d * \\frac{\\pi}{180}) + y_{cartesian} * cos(d * \\frac{\\pi}{180})$ \n",
    "\n",
    "Below is a function that will rotate the cursor."
   ],
   "metadata": {}
  },
  {
   "cell_type": "code",
   "execution_count": 2,
   "source": [
    "def cursor_rot_vis(x_cart,y_cart, rotation):\n",
    "  # INPUT:\n",
    "  # x&y _cart: x and y Cartesian location of cursor (can be scalar or vector)\n",
    "  # rotation: desired rotation (in degrees) (+ = CCW; - = CW)\n",
    "\n",
    "  # OUTPUT:\n",
    "  # x&y _rot: x and y Cartesian locations of rotated cursor (can be scalar or vector)\n",
    "\n",
    "  x_rot = x_cart * np.cos(rotation * np.pi/180) - y_cart * np.sin(rotation * np.pi/180)\n",
    "  y_rot = x_cart * np.sin(rotation * np.pi/180) + y_cart * np.cos(rotation * np.pi/180)\n",
    "\n",
    "  # Visualize \n",
    "  plt.figure()\n",
    "  plt.scatter(x_cart,y_cart,s=50,label='hand')\n",
    "  plt.scatter(x_rot, y_rot, s=50, label='curosr')\n",
    "  plt.xlabel('x')\n",
    "  plt.ylabel('y')\n",
    "  plt.legend(loc='best')\n",
    "  plt.gca().set_ylim(-30,30)\n",
    "  plt.gca().set_xlim(-30,30)\n",
    "  plt.show()\n",
    "\n",
    "  return x_rot, y_rot"
   ],
   "outputs": [],
   "metadata": {}
  },
  {
   "cell_type": "code",
   "execution_count": 3,
   "source": [
    "w = widgets.interact(cursor_rot_vis, x_cart = (-20,20,1), y_cart = (-20,20,1), rotation = (-90,90,1))"
   ],
   "outputs": [
    {
     "output_type": "display_data",
     "data": {
      "application/vnd.jupyter.widget-view+json": {
       "version_major": 2,
       "version_minor": 0,
       "model_id": "54999173f2db4875acf3e9ba1ab1da5e"
      },
      "text/plain": [
       "interactive(children=(IntSlider(value=0, description='x_cart', max=20, min=-20), IntSlider(value=0, descriptio…"
      ]
     },
     "metadata": {}
    }
   ],
   "metadata": {}
  },
  {
   "cell_type": "markdown",
   "source": [
    "### 30 deg clamp"
   ],
   "metadata": {}
  },
  {
   "cell_type": "markdown",
   "source": [
    "To do a clamp rotation, one simple needs to get radial position from start location and use that with a constant rotation angle.\n",
    "\n",
    "$d = \\sqrt{(x_2 - x_1)^2 + (y_2 - y_1)^2}$\n",
    "\n",
    "$x_{rotated} = d * cos(clamp) + center_x$\n",
    "\n",
    "$y_{rotated} = d * sin(clamp) + center_y$"
   ],
   "metadata": {}
  },
  {
   "cell_type": "code",
   "execution_count": 9,
   "source": [
    "def clamp(x,y,rotationD, center=(0,0)):\n",
    "    '''\n",
    "    Clamp rotation example \n",
    "\n",
    "    INPUTS:\n",
    "    x,y: x,y cartesian coordinates, float\n",
    "    rotationD: rotation to clamp, float\n",
    "    center: x,y of center, tuple of floats\n",
    "\n",
    "    OUTPUT: \n",
    "    Visaulize clamp rotation \n",
    "    '''\n",
    "\n",
    "    d = np.sqrt((x - center[0])**2 + (y - center[1])**2)\n",
    "    x_clamp = d * np.cos(rotationD * np.pi/180) + center[0]\n",
    "    y_clamp = d * np.sin(rotationD * np.pi/180) + center[1]\n",
    "\n",
    "    # Visualize \n",
    "    plt.figure()\n",
    "    plt.scatter(x,y,s=50,label='hand')\n",
    "    plt.scatter(x_clamp, y_clamp, s=50, label='curosr')\n",
    "    plt.xlabel('x')\n",
    "    plt.ylabel('y')\n",
    "    plt.legend(loc='best')\n",
    "    plt.gca().set_ylim(-30,30)\n",
    "    plt.gca().set_xlim(-30,30)\n",
    "    plt.show()\n",
    "\n",
    "    return x_clamp, y_clamp"
   ],
   "outputs": [],
   "metadata": {}
  },
  {
   "cell_type": "code",
   "execution_count": 16,
   "source": [
    "w = widgets.interact(clamp, x = (-20,20,1), y = (-20,20,1), rotationD = (0,360,1), center=fixed([0,0]))"
   ],
   "outputs": [
    {
     "output_type": "display_data",
     "data": {
      "application/vnd.jupyter.widget-view+json": {
       "version_major": 2,
       "version_minor": 0,
       "model_id": "1e366287a1b74fee8b07cc1e525a5632"
      },
      "text/plain": [
       "interactive(children=(IntSlider(value=0, description='x', max=20, min=-20), IntSlider(value=0, description='y'…"
      ]
     },
     "metadata": {}
    }
   ],
   "metadata": {}
  },
  {
   "cell_type": "markdown",
   "source": [
    "### Gradual learning "
   ],
   "metadata": {}
  },
  {
   "cell_type": "markdown",
   "source": [
    "Graph the perturbation schedule"
   ],
   "metadata": {}
  },
  {
   "cell_type": "code",
   "execution_count": 26,
   "source": [
    "cycle = np.arange(0, 20+40+40+10+20+1, 1)\n",
    "perturbation = []\n",
    "rotation = 0 \n",
    "for c in cycle:\n",
    "    if c <= 20:\n",
    "        perturbation.append(0)\n",
    "    elif c > 20 and c <= 60:\n",
    "        rotation += 0.0938 * 8 # deg\n",
    "        perturbation.append(rotation)\n",
    "    elif c > 60 and c <= 90:\n",
    "        perturbation.append(0)\n",
    "    elif c > 90 :\n",
    "        perturbation.append(30) # deg \n",
    "\n",
    "# visualize \n",
    "plt.figure()\n",
    "plt.plot(cycle, perturbation)\n",
    "plt.xlabel('Cycle')\n",
    "plt.ylabel('Angle (deg)')\n",
    "plt.show()"
   ],
   "outputs": [
    {
     "output_type": "display_data",
     "data": {
      "image/png": "[encoded data removed]",
      "text/plain": [
       "<Figure size 432x288 with 1 Axes>"
      ]
     },
     "metadata": {
      "needs_background": "light"
     }
    }
   ],
   "metadata": {}
  },
  {
   "cell_type": "markdown",
   "source": [
    "Other learning paradigms "
   ],
   "metadata": {}
  },
  {
   "cell_type": "code",
   "execution_count": 27,
   "source": [
    "cycle = np.arange(0, 20+40+40+10+20+1, 1)\n",
    "perturbation = np.zeros_like(cycle)\n",
    "perturbation[20:61] = 30\n",
    "perturbation[90:131] = 30\n",
    "\n",
    "# visualize \n",
    "plt.figure()\n",
    "plt.plot(cycle, perturbation)\n",
    "plt.xlabel('Cycle')\n",
    "plt.ylabel('Angle (deg)')\n",
    "plt.show()"
   ],
   "outputs": [
    {
     "output_type": "display_data",
     "data": {
      "image/png": "[encoded data removed]",
      "text/plain": [
       "<Figure size 432x288 with 1 Axes>"
      ]
     },
     "metadata": {
      "needs_background": "light"
     }
    }
   ],
   "metadata": {}
  }
 ],
 "metadata": {
  "orig_nbformat": 4,
  "language_info": {
   "name": "python",
   "version": "3.8.10",
   "mimetype": "text/x-python",
   "codemirror_mode": {
    "name": "ipython",
    "version": 3
   },
   "pygments_lexer": "ipython3",
   "nbconvert_exporter": "python",
   "file_extension": ".py"
  },
  "kernelspec": {
   "name": "python3",
   "display_name": "Python 3.8.10 64-bit ('base': conda)"
  },
  "interpreter": {
   "hash": "b01ba0570bf559b54fac3835c0662045995879e7fc23349796d3c67acbd2c70d"
  }
 },
 "nbformat": 4,
 "nbformat_minor": 2
}