{
  "nbformat": 4,
  "nbformat_minor": 0,
  "metadata": {
    "colab": {
      "name": "MOA_example.ipynb",
      "provenance": [],
      "collapsed_sections": [],
      "toc_visible": true
    },
    "kernelspec": {
      "name": "python3",
      "display_name": "Python 3"
    },
    "widgets": {
      "application/vnd.jupyter.widget-state+json": {
        "6bc57c88188f46198edc5b49a5702bec": {
          "model_module": "@jupyter-widgets/controls",
          "model_name": "VBoxModel",
          "model_module_version": "1.5.0",
          "state": {
            "_view_name": "VBoxView",
            "_dom_classes": [
              "widget-interact"
            ],
            "_model_name": "VBoxModel",
            "_view_module": "@jupyter-widgets/controls",
            "_model_module_version": "1.5.0",
            "_view_count": null,
            "_view_module_version": "1.5.0",
            "box_style": "",
            "layout": "IPY_MODEL_d018d8715e5c48aca0c72b8be884b40a",
            "_model_module": "@jupyter-widgets/controls",
            "children": [
              "IPY_MODEL_62ace04d697c4b979152aabbb555a580",
              "IPY_MODEL_6a503c64f5b74cc68d65410a191789df",
              "IPY_MODEL_d5ac9b139ed145338555cf8aafb22017",
              "IPY_MODEL_1807c2aa6d734c1f9eba1b97e27743ed"
            ]
          }
        },
        "d018d8715e5c48aca0c72b8be884b40a": {
          "model_module": "@jupyter-widgets/base",
          "model_name": "LayoutModel",
          "model_module_version": "1.2.0",
          "state": {
            "_view_name": "LayoutView",
            "grid_template_rows": null,
            "right": null,
            "justify_content": null,
            "_view_module": "@jupyter-widgets/base",
            "overflow": null,
            "_model_module_version": "1.2.0",
            "_view_count": null,
            "flex_flow": null,
            "width": null,
            "min_width": null,
            "border": null,
            "align_items": null,
            "bottom": null,
            "_model_module": "@jupyter-widgets/base",
            "top": null,
            "grid_column": null,
            "overflow_y": null,
            "overflow_x": null,
            "grid_auto_flow": null,
            "grid_area": null,
            "grid_template_columns": null,
            "flex": null,
            "_model_name": "LayoutModel",
            "justify_items": null,
            "grid_row": null,
            "max_height": null,
            "align_content": null,
            "visibility": null,
            "align_self": null,
            "height": null,
            "min_height": null,
            "padding": null,
            "grid_auto_rows": null,
            "grid_gap": null,
            "max_width": null,
            "order": null,
            "_view_module_version": "1.2.0",
            "grid_template_areas": null,
            "object_position": null,
            "object_fit": null,
            "grid_auto_columns": null,
            "margin": null,
            "display": null,
            "left": null
          }
        },
        "62ace04d697c4b979152aabbb555a580": {
          "model_module": "@jupyter-widgets/controls",
          "model_name": "FloatSliderModel",
          "model_module_version": "1.5.0",
          "state": {
            "_view_name": "FloatSliderView",
            "style": "IPY_MODEL_8f01863405a54dd39c65dd794a46e838",
            "_dom_classes": [],
            "description": "red",
            "step": 0.05,
            "_model_name": "FloatSliderModel",
            "orientation": "horizontal",
            "max": 1,
            "_view_module": "@jupyter-widgets/controls",
            "_model_module_version": "1.5.0",
            "value": 0,
            "_view_count": null,
            "disabled": false,
            "_view_module_version": "1.5.0",
            "min": 0,
            "continuous_update": true,
            "readout_format": ".2f",
            "description_tooltip": null,
            "readout": true,
            "_model_module": "@jupyter-widgets/controls",
            "layout": "IPY_MODEL_a8f676ea288c4a60bec71e9f6a53da75"
          }
        },
        "6a503c64f5b74cc68d65410a191789df": {
          "model_module": "@jupyter-widgets/controls",
          "model_name": "FloatSliderModel",
          "model_module_version": "1.5.0",
          "state": {
            "_view_name": "FloatSliderView",
            "style": "IPY_MODEL_d3f9ac2b1c6f45c4a35e627434a1b711",
            "_dom_classes": [],
            "description": "green",
            "step": 0.05,
            "_model_name": "FloatSliderModel",
            "orientation": "horizontal",
            "max": 1,
            "_view_module": "@jupyter-widgets/controls",
            "_model_module_version": "1.5.0",
            "value": 0,
            "_view_count": null,
            "disabled": false,
            "_view_module_version": "1.5.0",
            "min": 0,
            "continuous_update": true,
            "readout_format": ".2f",
            "description_tooltip": null,
            "readout": true,
            "_model_module": "@jupyter-widgets/controls",
            "layout": "IPY_MODEL_0569134d12dc478ebc4e11996fa00b96"
          }
        },
        "d5ac9b139ed145338555cf8aafb22017": {
          "model_module": "@jupyter-widgets/controls",
          "model_name": "FloatSliderModel",
          "model_module_version": "1.5.0",
          "state": {
            "_view_name": "FloatSliderView",
            "style": "IPY_MODEL_a983c890e2ca4af18e2ea2009c5eb3e7",
            "_dom_classes": [],
            "description": "blue",
            "step": 0.05,
            "_model_name": "FloatSliderModel",
            "orientation": "horizontal",
            "max": 1,
            "_view_module": "@jupyter-widgets/controls",
            "_model_module_version": "1.5.0",
            "value": 0,
            "_view_count": null,
            "disabled": false,
            "_view_module_version": "1.5.0",
            "min": 0,
            "continuous_update": true,
            "readout_format": ".2f",
            "description_tooltip": null,
            "readout": true,
            "_model_module": "@jupyter-widgets/controls",
            "layout": "IPY_MODEL_5814934296e84f47a629f2320b2a5bdf"
          }
        },
        "1807c2aa6d734c1f9eba1b97e27743ed": {
          "model_module": "@jupyter-widgets/output",
          "model_name": "OutputModel",
          "model_module_version": "1.0.0",
          "state": {
            "_view_name": "OutputView",
            "msg_id": "",
            "_dom_classes": [],
            "_model_name": "OutputModel",
            "outputs": [
              {
                "output_type": "display_data",
                "data": {
                  "image/png": "iVBORw0KGgoAAAANSUhEUgAAAWAAAADrCAYAAABXYUzjAAAABHNCSVQICAgIfAhkiAAAAAlwSFlzAAALEgAACxIB0t1+/AAAADh0RVh0U29mdHdhcmUAbWF0cGxvdGxpYiB2ZXJzaW9uMy4yLjIsIGh0dHA6Ly9tYXRwbG90bGliLm9yZy+WH4yJAAAGrUlEQVR4nO3dMYuUWRqG4beWmdlfMJENNugv6Co107A3EjReNJCqpBVGIxMNNNFEF7SDKlFQNlbQpDtUMFC6CzoUFCzQQFwDw90NauMdJjnM2A9nvK6waagnujkc6qtvsFwuC4D995f0AIDvlQADhAgwQIgAA4QIMECIAAOE/NDyz58/f14uFotvtQXgT2k0Gv2rqn7+9d+bArxYLOrIkSN/2CiA78FyufzNk6srCIAQAQYIEWCAEAEGCBFggBABBggRYIAQAQYIaXoQ4/f45W9/r7/++NN+fRzfkRtP71dV1WAwCC+BNvt2AhZfgP/nCgIgRIABQgQYIESAAUIEmO7duXithsNhegY0E2C69/HdoubzeXoGNBNggBABpnunNs7UdDpNz4BmAkz3jq2fqMlkkp4BzQQYIESAAUIEGCBEgAFCBBggZN9+Dxi+lQ9v39enr1/SM6CZEzDdu3vpeo1Go/QMaCbAACECDBAiwHTvxtP7tVwu0zOgmQADhAgwQIgAA4QIMECIAAOECDBAiEeR6d7jzYe1tfcyPQOaCTDde739ou49e5CeAc1cQQCECDDdO7p+vMbjcXoGNBNgund642zNZrP0DGgmwAAhAgwQIsAAIQIMECLAACECDBAiwHTv8slzNRgM0jOgmQADhAgwQIgA073zt67Uzs5OegY082todG/l8Gqt1Gp6BjRzAgYIEWCAEAEGCBFggBABBgjxLQi692r7ee0t3qRnQDMBpntPNh/VTS/lpEOuIABCBJjuHTh0sNbW1tIzoJkA070Lt6/W7u5uegY0E2CAEAEGCBFggBABBggRYIAQAQYIEWC6d+fitRoOh+kZ0EyA6d7Hd4uaz+fpGdBMgAFCBJjundo4U9PpND0Dmgkw3Tu2fqImk0l6BjQTYIAQAQYIEWCAEAEGCBFggBDvhKN7H96+r09fv6RnQDMnYLp399L1Go1G6RnQTIABQgQYIESA6d6Np/druVymZ0AzAQYIEWCAEAEGCBFggBABBggRYIAQjyLTvcebD2tr72V6BjQTYLr3evtF3Xv2ID0DmrmCAAgRYLp3dP14jcfj9AxoJsB07/TG2ZrNZukZ0EyAAUIEGCBEgAFCBBggRIABQgQYIESA6d7lk+dqMBikZ0AzAQYIEWCAEAGme+dvXamdnZ30DGjm19Do3srh1Vqp1fQMaOYEDBAiwAAhAgwQIsAAIQIMEOJbEHTv1fbz2lu8Sc+AZgJM955sPqqbXspJh1xBAIQIMN07cOhgra2tpWdAMwGmexduX63d3d30DGgmwAAhAgwQIsAAIQIMECLAACECDBAiwHTvzsVrNRwO0zOgmQDTvY/vFjWfz9MzoJkAA4QIMN07tXGmptNpegY0E2C6d2z9RE0mk/QMaCbAACECDBAiwAAhAgwQIsAAId4JR/c+vH1fn75+Sc+AZk7AdO/upes1Go3SM6CZAAOECDBAiADTvRtP79dyuUzPgGYCDBAiwAAhAgwQIsAAIQIMECLAACEeRaZ7jzcf1tbey/QMaCbAdO/19ou69+xBegY0cwUBECLAdO/o+vEaj8fpGdBMgOne6Y2zNZvN0jOgmQADhAgwQIgAA4QIMECIAAOECDBAiADTvcsnz9VgMEjPgGYCDBAiwAAhAkz3zt+6Ujs7O+kZ0MyvodG9lcOrtVKr6RnQzAkYIESAAUIEGCBEgAFCBBggxLcg6N6r7ee1t3iTngHNBJjuPdl8VDe9lJMOuYIACBFgunfg0MFaW1tLz4BmAkz3Lty+Wru7u+kZ0EyAAUIEGCBEgAFCBBggRIABQgQYIESA6d6di9dqOBymZ0AzAaZ7H98taj6fp2dAMwEGCBFgundq40xNp9P0DGgmwHTv2PqJmkwm6RnQTIABQgQYIESAAUIEGCBEgAFCvBOO7n14+74+ff2SngHNnIDp3t1L12s0GqVnQDMBBggRYIAQAaZ7N57er+VymZ4BzQQYIESAAUIEGCBEgAFCBBggRIABQjyKTPcebz6srb2X6RnQTIDp3uvtF3Xv2YP0DGjmCgIgRIDp3tH14zUej9MzoJkA073TG2drNpulZ0AzAQYIEWCAEAEGCBFggBABBggRYICQfQvwv//7n/36KL4zl0+eq59++DE9A5rt26PI/9j65359FEAXXEEAhAgwQIgAA4QIMECIAAOECDBAiAADhAgwQMhguVy2/P/nqlp8oy0Af1YHq+rnX/+xNcAA/EFcQQCECDBAiAADhAgwQIgAA4QIMECIAAOECDBAiAADhPwPRb30rEtzuisAAAAASUVORK5CYII=\n",
                  "text/plain": "<Figure size 432x288 with 1 Axes>"
                },
                "metadata": {}
              }
            ],
            "_view_module": "@jupyter-widgets/output",
            "_model_module_version": "1.0.0",
            "_view_count": null,
            "_view_module_version": "1.0.0",
            "layout": "IPY_MODEL_c9740a02502845f3a0524cf2af3a0ba4",
            "_model_module": "@jupyter-widgets/output"
          }
        },
        "8f01863405a54dd39c65dd794a46e838": {
          "model_module": "@jupyter-widgets/controls",
          "model_name": "SliderStyleModel",
          "model_module_version": "1.5.0",
          "state": {
            "_view_name": "StyleView",
            "handle_color": null,
            "_model_name": "SliderStyleModel",
            "description_width": "",
            "_view_module": "@jupyter-widgets/base",
            "_model_module_version": "1.5.0",
            "_view_count": null,
            "_view_module_version": "1.2.0",
            "_model_module": "@jupyter-widgets/controls"
          }
        },
        "a8f676ea288c4a60bec71e9f6a53da75": {
          "model_module": "@jupyter-widgets/base",
          "model_name": "LayoutModel",
          "model_module_version": "1.2.0",
          "state": {
            "_view_name": "LayoutView",
            "grid_template_rows": null,
            "right": null,
            "justify_content": null,
            "_view_module": "@jupyter-widgets/base",
            "overflow": null,
            "_model_module_version": "1.2.0",
            "_view_count": null,
            "flex_flow": null,
            "width": null,
            "min_width": null,
            "border": null,
            "align_items": null,
            "bottom": null,
            "_model_module": "@jupyter-widgets/base",
            "top": null,
            "grid_column": null,
            "overflow_y": null,
            "overflow_x": null,
            "grid_auto_flow": null,
            "grid_area": null,
            "grid_template_columns": null,
            "flex": null,
            "_model_name": "LayoutModel",
            "justify_items": null,
            "grid_row": null,
            "max_height": null,
            "align_content": null,
            "visibility": null,
            "align_self": null,
            "height": null,
            "min_height": null,
            "padding": null,
            "grid_auto_rows": null,
            "grid_gap": null,
            "max_width": null,
            "order": null,
            "_view_module_version": "1.2.0",
            "grid_template_areas": null,
            "object_position": null,
            "object_fit": null,
            "grid_auto_columns": null,
            "margin": null,
            "display": null,
            "left": null
          }
        },
        "d3f9ac2b1c6f45c4a35e627434a1b711": {
          "model_module": "@jupyter-widgets/controls",
          "model_name": "SliderStyleModel",
          "model_module_version": "1.5.0",
          "state": {
            "_view_name": "StyleView",
            "handle_color": null,
            "_model_name": "SliderStyleModel",
            "description_width": "",
            "_view_module": "@jupyter-widgets/base",
            "_model_module_version": "1.5.0",
            "_view_count": null,
            "_view_module_version": "1.2.0",
            "_model_module": "@jupyter-widgets/controls"
          }
        },
        "0569134d12dc478ebc4e11996fa00b96": {
          "model_module": "@jupyter-widgets/base",
          "model_name": "LayoutModel",
          "model_module_version": "1.2.0",
          "state": {
            "_view_name": "LayoutView",
            "grid_template_rows": null,
            "right": null,
            "justify_content": null,
            "_view_module": "@jupyter-widgets/base",
            "overflow": null,
            "_model_module_version": "1.2.0",
            "_view_count": null,
            "flex_flow": null,
            "width": null,
            "min_width": null,
            "border": null,
            "align_items": null,
            "bottom": null,
            "_model_module": "@jupyter-widgets/base",
            "top": null,
            "grid_column": null,
            "overflow_y": null,
            "overflow_x": null,
            "grid_auto_flow": null,
            "grid_area": null,
            "grid_template_columns": null,
            "flex": null,
            "_model_name": "LayoutModel",
            "justify_items": null,
            "grid_row": null,
            "max_height": null,
            "align_content": null,
            "visibility": null,
            "align_self": null,
            "height": null,
            "min_height": null,
            "padding": null,
            "grid_auto_rows": null,
            "grid_gap": null,
            "max_width": null,
            "order": null,
            "_view_module_version": "1.2.0",
            "grid_template_areas": null,
            "object_position": null,
            "object_fit": null,
            "grid_auto_columns": null,
            "margin": null,
            "display": null,
            "left": null
          }
        },
        "a983c890e2ca4af18e2ea2009c5eb3e7": {
          "model_module": "@jupyter-widgets/controls",
          "model_name": "SliderStyleModel",
          "model_module_version": "1.5.0",
          "state": {
            "_view_name": "StyleView",
            "handle_color": null,
            "_model_name": "SliderStyleModel",
            "description_width": "",
            "_view_module": "@jupyter-widgets/base",
            "_model_module_version": "1.5.0",
            "_view_count": null,
            "_view_module_version": "1.2.0",
            "_model_module": "@jupyter-widgets/controls"
          }
        },
        "5814934296e84f47a629f2320b2a5bdf": {
          "model_module": "@jupyter-widgets/base",
          "model_name": "LayoutModel",
          "model_module_version": "1.2.0",
          "state": {
            "_view_name": "LayoutView",
            "grid_template_rows": null,
            "right": null,
            "justify_content": null,
            "_view_module": "@jupyter-widgets/base",
            "overflow": null,
            "_model_module_version": "1.2.0",
            "_view_count": null,
            "flex_flow": null,
            "width": null,
            "min_width": null,
            "border": null,
            "align_items": null,
            "bottom": null,
            "_model_module": "@jupyter-widgets/base",
            "top": null,
            "grid_column": null,
            "overflow_y": null,
            "overflow_x": null,
            "grid_auto_flow": null,
            "grid_area": null,
            "grid_template_columns": null,
            "flex": null,
            "_model_name": "LayoutModel",
            "justify_items": null,
            "grid_row": null,
            "max_height": null,
            "align_content": null,
            "visibility": null,
            "align_self": null,
            "height": null,
            "min_height": null,
            "padding": null,
            "grid_auto_rows": null,
            "grid_gap": null,
            "max_width": null,
            "order": null,
            "_view_module_version": "1.2.0",
            "grid_template_areas": null,
            "object_position": null,
            "object_fit": null,
            "grid_auto_columns": null,
            "margin": null,
            "display": null,
            "left": null
          }
        },
        "c9740a02502845f3a0524cf2af3a0ba4": {
          "model_module": "@jupyter-widgets/base",
          "model_name": "LayoutModel",
          "model_module_version": "1.2.0",
          "state": {
            "_view_name": "LayoutView",
            "grid_template_rows": null,
            "right": null,
            "justify_content": null,
            "_view_module": "@jupyter-widgets/base",
            "overflow": null,
            "_model_module_version": "1.2.0",
            "_view_count": null,
            "flex_flow": null,
            "width": null,
            "min_width": null,
            "border": null,
            "align_items": null,
            "bottom": null,
            "_model_module": "@jupyter-widgets/base",
            "top": null,
            "grid_column": null,
            "overflow_y": null,
            "overflow_x": null,
            "grid_auto_flow": null,
            "grid_area": null,
            "grid_template_columns": null,
            "flex": null,
            "_model_name": "LayoutModel",
            "justify_items": null,
            "grid_row": null,
            "max_height": null,
            "align_content": null,
            "visibility": null,
            "align_self": null,
            "height": null,
            "min_height": null,
            "padding": null,
            "grid_auto_rows": null,
            "grid_gap": null,
            "max_width": null,
            "order": null,
            "_view_module_version": "1.2.0",
            "grid_template_areas": null,
            "object_position": null,
            "object_fit": null,
            "grid_auto_columns": null,
            "margin": null,
            "display": null,
            "left": null
          }
        }
      }
    }
  },
  "cells": [
    {
      "cell_type": "code",
      "metadata": {
        "id": "aRunuLf2ExgI"
      },
      "source": [
        "# Import libraries\n",
        "import numpy as np \n",
        "import pandas as pd\n",
        "import scipy.stats as stats\n",
        "import matplotlib.pyplot as plt\n",
        "import seaborn as sns\n",
        "import scipy.optimize\n",
        "plt.style.use('dark_background')\n",
        "import ipywidgets as widgets\n",
        "from ipywidgets import interact, interactive, fixed, interact_manual"
      ],
      "execution_count": 1,
      "outputs": []
    },
    {
      "cell_type": "markdown",
      "metadata": {
        "id": "HVMWIQsEE9B9"
      },
      "source": [
        "# Match the colors!"
      ]
    },
    {
      "cell_type": "code",
      "metadata": {
        "id": "_9eg0AZBFGJp",
        "cellView": "form"
      },
      "source": [
        "#@title Set up \n",
        "def rgb_test(red,green,blue,rgb_rand): \n",
        "  # INPUTS: \n",
        "  # red: red intesity value \n",
        "  # green: green intensity value \n",
        "  # blue: blue intensity value \n",
        "\n",
        "  # OUTPUT:\n",
        "  # Plot colors \n",
        "\n",
        "  plt.figure();\n",
        "  # bisector \n",
        "  plt.plot([0,0], [-1,1], linewidth=2, linestyle='--', color = 'white')\n",
        "  # set color\n",
        "  plt.fill_between([-1, 0], -1, 1, color = rgb_rand)\n",
        "  # participant edit rgb \n",
        "  plt.fill_between([0,1], -1, 1, color = (red, green, blue))\n",
        "\n",
        "  plt.xticks([])\n",
        "  plt.yticks([])\n",
        "\n",
        "  plt.show();"
      ],
      "execution_count": 2,
      "outputs": []
    },
    {
      "cell_type": "code",
      "metadata": {
        "colab": {
          "base_uri": "https://localhost:8080/",
          "height": 348,
          "referenced_widgets": [
            "6bc57c88188f46198edc5b49a5702bec",
            "d018d8715e5c48aca0c72b8be884b40a",
            "62ace04d697c4b979152aabbb555a580",
            "6a503c64f5b74cc68d65410a191789df",
            "d5ac9b139ed145338555cf8aafb22017",
            "1807c2aa6d734c1f9eba1b97e27743ed",
            "8f01863405a54dd39c65dd794a46e838",
            "a8f676ea288c4a60bec71e9f6a53da75",
            "d3f9ac2b1c6f45c4a35e627434a1b711",
            "0569134d12dc478ebc4e11996fa00b96",
            "a983c890e2ca4af18e2ea2009c5eb3e7",
            "5814934296e84f47a629f2320b2a5bdf",
            "c9740a02502845f3a0524cf2af3a0ba4"
          ]
        },
        "id": "pXVHfreNE8mZ",
        "outputId": "bad1fa76-4e1d-47c3-c65c-22c0ae4a06f5"
      },
      "source": [
        "# randomly choose color to have observer match \n",
        "rgb_rand = np.random.rand(1,3)\n",
        "# Method of adjustment \n",
        "w = widgets.interact(rgb_test, red = (0,1,0.05), green = (0,1,0.05), blue = (0,1,0.05), rgb_rand = fixed(rgb_rand));"
      ],
      "execution_count": 3,
      "outputs": [
        {
          "output_type": "display_data",
          "data": {
            "application/vnd.jupyter.widget-view+json": {
              "model_id": "6bc57c88188f46198edc5b49a5702bec",
              "version_minor": 0,
              "version_major": 2
            },
            "text/plain": [
              "interactive(children=(FloatSlider(value=0.0, description='red', max=1.0, step=0.05), FloatSlider(value=0.0, de…"
            ]
          },
          "metadata": {}
        }
      ]
    }
  ]
}