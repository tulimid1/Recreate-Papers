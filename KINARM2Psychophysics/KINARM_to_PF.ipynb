{
  "nbformat": 4,
  "nbformat_minor": 0,
  "metadata": {
    "colab": {
      "name": "KINARM_to_PF.ipynb",
      "provenance": [],
      "collapsed_sections": [],
      "toc_visible": true
    },
    "kernelspec": {
      "name": "python3",
      "display_name": "Python 3"
    },
    "widgets": {
      "application/vnd.jupyter.widget-state+json": {
        "67583f3a5fe9494a9b3a4f757fd27708": {
          "model_module": "@jupyter-widgets/controls",
          "model_name": "VBoxModel",
          "model_module_version": "1.5.0",
          "state": {
            "_view_name": "VBoxView",
            "_dom_classes": [
              "widget-interact"
            ],
            "_model_name": "VBoxModel",
            "_view_module": "@jupyter-widgets/controls",
            "_model_module_version": "1.5.0",
            "_view_count": null,
            "_view_module_version": "1.5.0",
            "box_style": "",
            "layout": "IPY_MODEL_2a58375a930f4e8d8e33a19796c28375",
            "_model_module": "@jupyter-widgets/controls",
            "children": [
              "IPY_MODEL_58b4d0bcc8dd4ce4852c9f4aa7c89070",
              "IPY_MODEL_fdf2b8c00b2c4a07a786c2f026a11c25",
              "IPY_MODEL_d018d27e8332484c932345e9db1b6791",
              "IPY_MODEL_46ecb3b0788442f69d8f23d1be53deef",
              "IPY_MODEL_37c08f5e0daf43c8a1c9290a3dfbcad6"
            ]
          }
        },
        "2a58375a930f4e8d8e33a19796c28375": {
          "model_module": "@jupyter-widgets/base",
          "model_name": "LayoutModel",
          "model_module_version": "1.2.0",
          "state": {
            "_view_name": "LayoutView",
            "grid_template_rows": null,
            "right": null,
            "justify_content": null,
            "_view_module": "@jupyter-widgets/base",
            "overflow": null,
            "_model_module_version": "1.2.0",
            "_view_count": null,
            "flex_flow": null,
            "width": null,
            "min_width": null,
            "border": null,
            "align_items": null,
            "bottom": null,
            "_model_module": "@jupyter-widgets/base",
            "top": null,
            "grid_column": null,
            "overflow_y": null,
            "overflow_x": null,
            "grid_auto_flow": null,
            "grid_area": null,
            "grid_template_columns": null,
            "flex": null,
            "_model_name": "LayoutModel",
            "justify_items": null,
            "grid_row": null,
            "max_height": null,
            "align_content": null,
            "visibility": null,
            "align_self": null,
            "height": null,
            "min_height": null,
            "padding": null,
            "grid_auto_rows": null,
            "grid_gap": null,
            "max_width": null,
            "order": null,
            "_view_module_version": "1.2.0",
            "grid_template_areas": null,
            "object_position": null,
            "object_fit": null,
            "grid_auto_columns": null,
            "margin": null,
            "display": null,
            "left": null
          }
        },
        "58b4d0bcc8dd4ce4852c9f4aa7c89070": {
          "model_module": "@jupyter-widgets/controls",
          "model_name": "FloatSliderModel",
          "model_module_version": "1.5.0",
          "state": {
            "_view_name": "FloatSliderView",
            "style": "IPY_MODEL_fff5ea995cf4433bb82360fc80098e7e",
            "_dom_classes": [],
            "description": "Alpha",
            "step": 0.5,
            "_model_name": "FloatSliderModel",
            "orientation": "horizontal",
            "max": 10,
            "_view_module": "@jupyter-widgets/controls",
            "_model_module_version": "1.5.0",
            "value": 6.5,
            "_view_count": null,
            "disabled": false,
            "_view_module_version": "1.5.0",
            "min": 0,
            "continuous_update": true,
            "readout_format": ".2f",
            "description_tooltip": null,
            "readout": true,
            "_model_module": "@jupyter-widgets/controls",
            "layout": "IPY_MODEL_76a6d90cc60b48f4b3512377aa614129"
          }
        },
        "fdf2b8c00b2c4a07a786c2f026a11c25": {
          "model_module": "@jupyter-widgets/controls",
          "model_name": "FloatSliderModel",
          "model_module_version": "1.5.0",
          "state": {
            "_view_name": "FloatSliderView",
            "style": "IPY_MODEL_21edadcd17ca4d01965e4621896a5526",
            "_dom_classes": [],
            "description": "Beta",
            "step": 0.5,
            "_model_name": "FloatSliderModel",
            "orientation": "horizontal",
            "max": 25,
            "_view_module": "@jupyter-widgets/controls",
            "_model_module_version": "1.5.0",
            "value": 8.5,
            "_view_count": null,
            "disabled": false,
            "_view_module_version": "1.5.0",
            "min": 0,
            "continuous_update": true,
            "readout_format": ".2f",
            "description_tooltip": null,
            "readout": true,
            "_model_module": "@jupyter-widgets/controls",
            "layout": "IPY_MODEL_0b7d9f33abc443f4ae9fb527f6255376"
          }
        },
        "d018d27e8332484c932345e9db1b6791": {
          "model_module": "@jupyter-widgets/controls",
          "model_name": "FloatSliderModel",
          "model_module_version": "1.5.0",
          "state": {
            "_view_name": "FloatSliderView",
            "style": "IPY_MODEL_3f06a1fda895493ab70731f064ded9b7",
            "_dom_classes": [],
            "description": "Gamma",
            "step": 0.01,
            "_model_name": "FloatSliderModel",
            "orientation": "horizontal",
            "max": 1,
            "_view_module": "@jupyter-widgets/controls",
            "_model_module_version": "1.5.0",
            "value": 0,
            "_view_count": null,
            "disabled": false,
            "_view_module_version": "1.5.0",
            "min": 0,
            "continuous_update": true,
            "readout_format": ".2f",
            "description_tooltip": null,
            "readout": true,
            "_model_module": "@jupyter-widgets/controls",
            "layout": "IPY_MODEL_99d5e7e535674139bc7985996dfbe4aa"
          }
        },
        "46ecb3b0788442f69d8f23d1be53deef": {
          "model_module": "@jupyter-widgets/controls",
          "model_name": "FloatSliderModel",
          "model_module_version": "1.5.0",
          "state": {
            "_view_name": "FloatSliderView",
            "style": "IPY_MODEL_f69282463c134f03b276bb9d0c35e53f",
            "_dom_classes": [],
            "description": "Lambda",
            "step": 0.01,
            "_model_name": "FloatSliderModel",
            "orientation": "horizontal",
            "max": 1,
            "_view_module": "@jupyter-widgets/controls",
            "_model_module_version": "1.5.0",
            "value": 0,
            "_view_count": null,
            "disabled": false,
            "_view_module_version": "1.5.0",
            "min": 0,
            "continuous_update": true,
            "readout_format": ".2f",
            "description_tooltip": null,
            "readout": true,
            "_model_module": "@jupyter-widgets/controls",
            "layout": "IPY_MODEL_8714a2567ff941cabc3ebd50ca1c2a60"
          }
        },
        "37c08f5e0daf43c8a1c9290a3dfbcad6": {
          "model_module": "@jupyter-widgets/output",
          "model_name": "OutputModel",
          "model_module_version": "1.0.0",
          "state": {
            "_view_name": "OutputView",
            "msg_id": "",
            "_dom_classes": [],
            "_model_name": "OutputModel",
            "outputs": [
              {
                "output_type": "display_data",
                "metadata": {
                  "tags": [],
                  "needs_background": "dark"
                },
                "image/png": "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\n",
                "text/plain": "<Figure size 432x288 with 1 Axes>"
              }
            ],
            "_view_module": "@jupyter-widgets/output",
            "_model_module_version": "1.0.0",
            "_view_count": null,
            "_view_module_version": "1.0.0",
            "layout": "IPY_MODEL_b409783ba098495d8ef10734b128e476",
            "_model_module": "@jupyter-widgets/output"
          }
        },
        "fff5ea995cf4433bb82360fc80098e7e": {
          "model_module": "@jupyter-widgets/controls",
          "model_name": "SliderStyleModel",
          "model_module_version": "1.5.0",
          "state": {
            "_view_name": "StyleView",
            "handle_color": null,
            "_model_name": "SliderStyleModel",
            "description_width": "",
            "_view_module": "@jupyter-widgets/base",
            "_model_module_version": "1.5.0",
            "_view_count": null,
            "_view_module_version": "1.2.0",
            "_model_module": "@jupyter-widgets/controls"
          }
        },
        "76a6d90cc60b48f4b3512377aa614129": {
          "model_module": "@jupyter-widgets/base",
          "model_name": "LayoutModel",
          "model_module_version": "1.2.0",
          "state": {
            "_view_name": "LayoutView",
            "grid_template_rows": null,
            "right": null,
            "justify_content": null,
            "_view_module": "@jupyter-widgets/base",
            "overflow": null,
            "_model_module_version": "1.2.0",
            "_view_count": null,
            "flex_flow": null,
            "width": null,
            "min_width": null,
            "border": null,
            "align_items": null,
            "bottom": null,
            "_model_module": "@jupyter-widgets/base",
            "top": null,
            "grid_column": null,
            "overflow_y": null,
            "overflow_x": null,
            "grid_auto_flow": null,
            "grid_area": null,
            "grid_template_columns": null,
            "flex": null,
            "_model_name": "LayoutModel",
            "justify_items": null,
            "grid_row": null,
            "max_height": null,
            "align_content": null,
            "visibility": null,
            "align_self": null,
            "height": null,
            "min_height": null,
            "padding": null,
            "grid_auto_rows": null,
            "grid_gap": null,
            "max_width": null,
            "order": null,
            "_view_module_version": "1.2.0",
            "grid_template_areas": null,
            "object_position": null,
            "object_fit": null,
            "grid_auto_columns": null,
            "margin": null,
            "display": null,
            "left": null
          }
        },
        "21edadcd17ca4d01965e4621896a5526": {
          "model_module": "@jupyter-widgets/controls",
          "model_name": "SliderStyleModel",
          "model_module_version": "1.5.0",
          "state": {
            "_view_name": "StyleView",
            "handle_color": null,
            "_model_name": "SliderStyleModel",
            "description_width": "",
            "_view_module": "@jupyter-widgets/base",
            "_model_module_version": "1.5.0",
            "_view_count": null,
            "_view_module_version": "1.2.0",
            "_model_module": "@jupyter-widgets/controls"
          }
        },
        "0b7d9f33abc443f4ae9fb527f6255376": {
          "model_module": "@jupyter-widgets/base",
          "model_name": "LayoutModel",
          "model_module_version": "1.2.0",
          "state": {
            "_view_name": "LayoutView",
            "grid_template_rows": null,
            "right": null,
            "justify_content": null,
            "_view_module": "@jupyter-widgets/base",
            "overflow": null,
            "_model_module_version": "1.2.0",
            "_view_count": null,
            "flex_flow": null,
            "width": null,
            "min_width": null,
            "border": null,
            "align_items": null,
            "bottom": null,
            "_model_module": "@jupyter-widgets/base",
            "top": null,
            "grid_column": null,
            "overflow_y": null,
            "overflow_x": null,
            "grid_auto_flow": null,
            "grid_area": null,
            "grid_template_columns": null,
            "flex": null,
            "_model_name": "LayoutModel",
            "justify_items": null,
            "grid_row": null,
            "max_height": null,
            "align_content": null,
            "visibility": null,
            "align_self": null,
            "height": null,
            "min_height": null,
            "padding": null,
            "grid_auto_rows": null,
            "grid_gap": null,
            "max_width": null,
            "order": null,
            "_view_module_version": "1.2.0",
            "grid_template_areas": null,
            "object_position": null,
            "object_fit": null,
            "grid_auto_columns": null,
            "margin": null,
            "display": null,
            "left": null
          }
        },
        "3f06a1fda895493ab70731f064ded9b7": {
          "model_module": "@jupyter-widgets/controls",
          "model_name": "SliderStyleModel",
          "model_module_version": "1.5.0",
          "state": {
            "_view_name": "StyleView",
            "handle_color": null,
            "_model_name": "SliderStyleModel",
            "description_width": "",
            "_view_module": "@jupyter-widgets/base",
            "_model_module_version": "1.5.0",
            "_view_count": null,
            "_view_module_version": "1.2.0",
            "_model_module": "@jupyter-widgets/controls"
          }
        },
        "99d5e7e535674139bc7985996dfbe4aa": {
          "model_module": "@jupyter-widgets/base",
          "model_name": "LayoutModel",
          "model_module_version": "1.2.0",
          "state": {
            "_view_name": "LayoutView",
            "grid_template_rows": null,
            "right": null,
            "justify_content": null,
            "_view_module": "@jupyter-widgets/base",
            "overflow": null,
            "_model_module_version": "1.2.0",
            "_view_count": null,
            "flex_flow": null,
            "width": null,
            "min_width": null,
            "border": null,
            "align_items": null,
            "bottom": null,
            "_model_module": "@jupyter-widgets/base",
            "top": null,
            "grid_column": null,
            "overflow_y": null,
            "overflow_x": null,
            "grid_auto_flow": null,
            "grid_area": null,
            "grid_template_columns": null,
            "flex": null,
            "_model_name": "LayoutModel",
            "justify_items": null,
            "grid_row": null,
            "max_height": null,
            "align_content": null,
            "visibility": null,
            "align_self": null,
            "height": null,
            "min_height": null,
            "padding": null,
            "grid_auto_rows": null,
            "grid_gap": null,
            "max_width": null,
            "order": null,
            "_view_module_version": "1.2.0",
            "grid_template_areas": null,
            "object_position": null,
            "object_fit": null,
            "grid_auto_columns": null,
            "margin": null,
            "display": null,
            "left": null
          }
        },
        "f69282463c134f03b276bb9d0c35e53f": {
          "model_module": "@jupyter-widgets/controls",
          "model_name": "SliderStyleModel",
          "model_module_version": "1.5.0",
          "state": {
            "_view_name": "StyleView",
            "handle_color": null,
            "_model_name": "SliderStyleModel",
            "description_width": "",
            "_view_module": "@jupyter-widgets/base",
            "_model_module_version": "1.5.0",
            "_view_count": null,
            "_view_module_version": "1.2.0",
            "_model_module": "@jupyter-widgets/controls"
          }
        },
        "8714a2567ff941cabc3ebd50ca1c2a60": {
          "model_module": "@jupyter-widgets/base",
          "model_name": "LayoutModel",
          "model_module_version": "1.2.0",
          "state": {
            "_view_name": "LayoutView",
            "grid_template_rows": null,
            "right": null,
            "justify_content": null,
            "_view_module": "@jupyter-widgets/base",
            "overflow": null,
            "_model_module_version": "1.2.0",
            "_view_count": null,
            "flex_flow": null,
            "width": null,
            "min_width": null,
            "border": null,
            "align_items": null,
            "bottom": null,
            "_model_module": "@jupyter-widgets/base",
            "top": null,
            "grid_column": null,
            "overflow_y": null,
            "overflow_x": null,
            "grid_auto_flow": null,
            "grid_area": null,
            "grid_template_columns": null,
            "flex": null,
            "_model_name": "LayoutModel",
            "justify_items": null,
            "grid_row": null,
            "max_height": null,
            "align_content": null,
            "visibility": null,
            "align_self": null,
            "height": null,
            "min_height": null,
            "padding": null,
            "grid_auto_rows": null,
            "grid_gap": null,
            "max_width": null,
            "order": null,
            "_view_module_version": "1.2.0",
            "grid_template_areas": null,
            "object_position": null,
            "object_fit": null,
            "grid_auto_columns": null,
            "margin": null,
            "display": null,
            "left": null
          }
        },
        "b409783ba098495d8ef10734b128e476": {
          "model_module": "@jupyter-widgets/base",
          "model_name": "LayoutModel",
          "model_module_version": "1.2.0",
          "state": {
            "_view_name": "LayoutView",
            "grid_template_rows": null,
            "right": null,
            "justify_content": null,
            "_view_module": "@jupyter-widgets/base",
            "overflow": null,
            "_model_module_version": "1.2.0",
            "_view_count": null,
            "flex_flow": null,
            "width": null,
            "min_width": null,
            "border": null,
            "align_items": null,
            "bottom": null,
            "_model_module": "@jupyter-widgets/base",
            "top": null,
            "grid_column": null,
            "overflow_y": null,
            "overflow_x": null,
            "grid_auto_flow": null,
            "grid_area": null,
            "grid_template_columns": null,
            "flex": null,
            "_model_name": "LayoutModel",
            "justify_items": null,
            "grid_row": null,
            "max_height": null,
            "align_content": null,
            "visibility": null,
            "align_self": null,
            "height": null,
            "min_height": null,
            "padding": null,
            "grid_auto_rows": null,
            "grid_gap": null,
            "max_width": null,
            "order": null,
            "_view_module_version": "1.2.0",
            "grid_template_areas": null,
            "object_position": null,
            "object_fit": null,
            "grid_auto_columns": null,
            "margin": null,
            "display": null,
            "left": null
          }
        }
      }
    }
  },
  "cells": [
    {
      "cell_type": "code",
      "metadata": {
        "id": "i8IqJEwds4U3"
      },
      "source": [
        "# Import libraries\n",
        "import numpy as np \n",
        "import pandas as pd\n",
        "import scipy.stats as stats\n",
        "import matplotlib.pyplot as plt\n",
        "import seaborn as sns\n",
        "import scipy.optimize\n",
        "plt.style.use('dark_background')\n",
        "import ipywidgets as widgets"
      ],
      "execution_count": null,
      "outputs": []
    },
    {
      "cell_type": "markdown",
      "metadata": {
        "id": "5XjPUOhbs_yG"
      },
      "source": [
        "# Experimental design "
      ]
    },
    {
      "cell_type": "code",
      "metadata": {
        "id": "yHawWe2StDVG",
        "cellView": "form"
      },
      "source": [
        "#@title Create experiment\n",
        "# Set number of trials (must be divisible by 10 and 4) \n",
        "trials = 200\n",
        "\n",
        "# Experiment data frame \n",
        "EXP = pd.DataFrame(data = np.zeros(shape=[trials,3]), \n",
        "                   columns= ['stimuli', 'direction', 'response'])\n",
        "\n",
        "# stimuli values\n",
        "stimuli = np.array([1,2,3,4,5,6,7,8,9,10]); \n",
        "direction = np.array([1, 2, 3, 4]) # left, right, up, down\n",
        "\n",
        "# simulate stimulus schedule \n",
        "cols = int(trials/10)\n",
        "stimuli_present = np.zeros(shape=[10,cols])\n",
        "for i in np.arange(0,cols):\n",
        "  stimuli_present[:,i] = np.random.choice(stimuli, size=10, replace=False)\n",
        "\n",
        "# add stimuli \n",
        "EXP['stimuli'] = np.matrix.flatten(stimuli_present, 'C')\n",
        "\n",
        "# simulate direction schedule\n",
        "cols = int(trials/4)\n",
        "direction_present = np.zeros(shape=[4,cols])\n",
        "for i in np.arange(0,cols):\n",
        "  direction_present[:,i] = np.random.choice(direction, size=4, replace=False)\n",
        "\n",
        "# add direction \n",
        "EXP['direction'] = np.matrix.flatten(direction_present, 'C')\n",
        "\n",
        "# simulate appropriate responses \n",
        "response_schedule = np.zeros(shape=[trials,1])\n",
        "for i in np.arange(0,trials):\n",
        "  D = EXP['direction'][i]\n",
        "  stim = EXP['stimuli'][i]\n",
        "  if (stim == 1) or (stim == 2) or (stim == 3):\n",
        "\n",
        "    w = np.array([0.25, 0.25, 0.25, 0.25]) # weights\n",
        "\n",
        "  elif (stim == 4):\n",
        "\n",
        "    w = np.array([0.183, 0.183, 0.183, 0.183]) # weights\n",
        "    x = np.where(direction == D)\n",
        "    w[x[0][0]] = (1 - 0.183*3)\n",
        "\n",
        "  elif (stim == 5):\n",
        "\n",
        "    w = np.array([0.15, 0.15, 0.15, 0.15]) # weights\n",
        "    x = np.where(direction == D)\n",
        "    w[x[0][0]] = 0.55\n",
        "\n",
        "  elif (stim == 6):\n",
        "\n",
        "    w = np.array([0.116, 0.116, 0.116, 0.116]) # weights\n",
        "    x = np.where(direction == D)\n",
        "    w[x[0][0]] = (1 - (0.116*3))\n",
        "\n",
        "  elif (stim == 7):\n",
        "\n",
        "    w = np.array([0.03, 0.03, 0.03, 0.03]) # weights\n",
        "    x = np.where(direction == D)\n",
        "    w[x[0][0]] = (1 - (0.03*3))\n",
        "\n",
        "  elif (stim == 8) or (stim == 9) or (stim == 10):\n",
        "\n",
        "    w = np.array([0.00167, 0.00167, 0.00167, 0.00167]) # weights\n",
        "    x = np.where(direction == D)\n",
        "    w[x[0][0]] = (1 - (0.00167*3))\n",
        "\n",
        "  # Put in vector \n",
        "  response_schedule[i] = np.random.choice(direction, size=1, p=w)\n",
        "\n",
        "# add response \n",
        "EXP['response'] = response_schedule"
      ],
      "execution_count": null,
      "outputs": []
    },
    {
      "cell_type": "markdown",
      "metadata": {
        "id": "1Vus6o0zDz5E"
      },
      "source": [
        "# Visualize Experiment"
      ]
    },
    {
      "cell_type": "code",
      "metadata": {
        "colab": {
          "base_uri": "https://localhost:8080/",
          "height": 359
        },
        "id": "cnQmj9ca69Oh",
        "outputId": "06a847bf-2824-4c9e-b71e-28561056a000"
      },
      "source": [
        "EXP.head(10)"
      ],
      "execution_count": null,
      "outputs": [
        {
          "output_type": "execute_result",
          "data": {
            "text/html": [
              "<div>\n",
              "<style scoped>\n",
              "    .dataframe tbody tr th:only-of-type {\n",
              "        vertical-align: middle;\n",
              "    }\n",
              "\n",
              "    .dataframe tbody tr th {\n",
              "        vertical-align: top;\n",
              "    }\n",
              "\n",
              "    .dataframe thead th {\n",
              "        text-align: right;\n",
              "    }\n",
              "</style>\n",
              "<table border=\"1\" class=\"dataframe\">\n",
              "  <thead>\n",
              "    <tr style=\"text-align: right;\">\n",
              "      <th></th>\n",
              "      <th>stimuli</th>\n",
              "      <th>direction</th>\n",
              "      <th>response</th>\n",
              "    </tr>\n",
              "  </thead>\n",
              "  <tbody>\n",
              "    <tr>\n",
              "      <th>0</th>\n",
              "      <td>3.0</td>\n",
              "      <td>3.0</td>\n",
              "      <td>3.0</td>\n",
              "    </tr>\n",
              "    <tr>\n",
              "      <th>1</th>\n",
              "      <td>4.0</td>\n",
              "      <td>4.0</td>\n",
              "      <td>2.0</td>\n",
              "    </tr>\n",
              "    <tr>\n",
              "      <th>2</th>\n",
              "      <td>5.0</td>\n",
              "      <td>3.0</td>\n",
              "      <td>4.0</td>\n",
              "    </tr>\n",
              "    <tr>\n",
              "      <th>3</th>\n",
              "      <td>10.0</td>\n",
              "      <td>1.0</td>\n",
              "      <td>1.0</td>\n",
              "    </tr>\n",
              "    <tr>\n",
              "      <th>4</th>\n",
              "      <td>6.0</td>\n",
              "      <td>4.0</td>\n",
              "      <td>4.0</td>\n",
              "    </tr>\n",
              "    <tr>\n",
              "      <th>5</th>\n",
              "      <td>9.0</td>\n",
              "      <td>4.0</td>\n",
              "      <td>4.0</td>\n",
              "    </tr>\n",
              "    <tr>\n",
              "      <th>6</th>\n",
              "      <td>3.0</td>\n",
              "      <td>2.0</td>\n",
              "      <td>4.0</td>\n",
              "    </tr>\n",
              "    <tr>\n",
              "      <th>7</th>\n",
              "      <td>4.0</td>\n",
              "      <td>4.0</td>\n",
              "      <td>1.0</td>\n",
              "    </tr>\n",
              "    <tr>\n",
              "      <th>8</th>\n",
              "      <td>9.0</td>\n",
              "      <td>4.0</td>\n",
              "      <td>4.0</td>\n",
              "    </tr>\n",
              "    <tr>\n",
              "      <th>9</th>\n",
              "      <td>4.0</td>\n",
              "      <td>1.0</td>\n",
              "      <td>2.0</td>\n",
              "    </tr>\n",
              "  </tbody>\n",
              "</table>\n",
              "</div>"
            ],
            "text/plain": [
              "   stimuli  direction  response\n",
              "0      3.0        3.0       3.0\n",
              "1      4.0        4.0       2.0\n",
              "2      5.0        3.0       4.0\n",
              "3     10.0        1.0       1.0\n",
              "4      6.0        4.0       4.0\n",
              "5      9.0        4.0       4.0\n",
              "6      3.0        2.0       4.0\n",
              "7      4.0        4.0       1.0\n",
              "8      9.0        4.0       4.0\n",
              "9      4.0        1.0       2.0"
            ]
          },
          "metadata": {
            "tags": []
          },
          "execution_count": 18
        }
      ]
    },
    {
      "cell_type": "code",
      "metadata": {
        "colab": {
          "base_uri": "https://localhost:8080/",
          "height": 279
        },
        "id": "wlAWTnNzD_JL",
        "outputId": "0c1c3cbb-77ff-44c5-ea95-eeab75f32ae8"
      },
      "source": [
        "# Stimulus \n",
        "plt.figure()\n",
        "sns.histplot(x='stimuli', data = EXP, bins = [1,2,3,4,5,6,7,8,9,10,11])\n",
        "plt.xticks(ticks=[1,2,3,4,5,6,7,8,9,10])\n",
        "plt.show()"
      ],
      "execution_count": null,
      "outputs": [
        {
          "output_type": "display_data",
          "data": {
            "image/png": "[encoded data removed]",
            "text/plain": [
              "<Figure size 432x288 with 1 Axes>"
            ]
          },
          "metadata": {
            "tags": [],
            "needs_background": "dark"
          }
        }
      ]
    },
    {
      "cell_type": "code",
      "metadata": {
        "colab": {
          "base_uri": "https://localhost:8080/",
          "height": 279
        },
        "id": "ttbhXD-pEB2R",
        "outputId": "48a09fd2-0e2d-445c-f30a-ffcdfd677d1e"
      },
      "source": [
        "# Directions\n",
        "plt.figure()\n",
        "sns.histplot(x='direction', data=EXP, bins=[1,2,3,4,5])\n",
        "plt.xticks(ticks=[1,2,3,4])\n",
        "plt.show()"
      ],
      "execution_count": null,
      "outputs": [
        {
          "output_type": "display_data",
          "data": {
            "image/png": "[encoded data removed]",
            "text/plain": [
              "<Figure size 432x288 with 1 Axes>"
            ]
          },
          "metadata": {
            "tags": [],
            "needs_background": "dark"
          }
        }
      ]
    },
    {
      "cell_type": "code",
      "metadata": {
        "colab": {
          "base_uri": "https://localhost:8080/",
          "height": 279
        },
        "id": "j-ornnngEOkb",
        "outputId": "33f57755-e57c-4cf9-89fa-a2b60469a71f"
      },
      "source": [
        "# Stimulus x (Correct & Wrong)\n",
        "plt.figure()\n",
        "# gather information \n",
        "trials = np.zeros(shape=[len(stimuli),1])\n",
        "correct = np.zeros(shape=[len(stimuli),1])\n",
        "for i in np.arange(0,10):\n",
        "  stim_resp = EXP[EXP['stimuli'] == stimuli[i]][['stimuli', 'direction', 'response']]\n",
        "  trials[i] = len(stim_resp)\n",
        "  correct[i] = sum(stim_resp['direction'] == stim_resp['response'])\n",
        "  plt.bar(x=stimuli[i], height = stim_resp['stimuli'].count(), color = 'gray')\n",
        "  plt.bar(x=stimuli[i], height = correct[i] , color='red')\n",
        "\n",
        "p_correct = correct / trials\n",
        "\n",
        "plt.xlabel('Stimuli (cm)')\n",
        "plt.ylabel('Frequency')\n",
        "plt.xticks(ticks=[1,2,3,4,5,6,7,8,9,10])\n",
        "plt.show()"
      ],
      "execution_count": null,
      "outputs": [
        {
          "output_type": "display_data",
          "data": {
            "image/png": "[encoded data removed]",
            "text/plain": [
              "<Figure size 432x288 with 1 Axes>"
            ]
          },
          "metadata": {
            "tags": [],
            "needs_background": "dark"
          }
        }
      ]
    },
    {
      "cell_type": "code",
      "metadata": {
        "colab": {
          "base_uri": "https://localhost:8080/",
          "height": 279
        },
        "id": "NTEPXwXZJb_S",
        "outputId": "101c4060-88aa-4c44-b4e4-c3ac13e140b3"
      },
      "source": [
        "# Probability data \n",
        "plt.figure()\n",
        "plt.scatter(stimuli, p_correct)\n",
        "plt.xlabel('Stimuli')\n",
        "plt.ylabel('p(correct)')\n",
        "plt.show()"
      ],
      "execution_count": null,
      "outputs": [
        {
          "output_type": "display_data",
          "data": {
            "image/png": "[encoded data removed]",
            "text/plain": [
              "<Figure size 432x288 with 1 Axes>"
            ]
          },
          "metadata": {
            "tags": [],
            "needs_background": "dark"
          }
        }
      ]
    },
    {
      "cell_type": "markdown",
      "metadata": {
        "id": "utYjux6AP2Q2"
      },
      "source": [
        "# Fit a psychometric function "
      ]
    },
    {
      "cell_type": "code",
      "metadata": {
        "id": "IIQ2PaU6XzPM",
        "cellView": "form"
      },
      "source": [
        "#@title Hand fit psychometric function \n",
        "def hand_min(Alpha, Beta, Gamma, Lambda):\n",
        "  # INPUTS:\n",
        "  # Alpha: midpoint \n",
        "  # Beta: slope\n",
        "  # Gamma: guess rate\n",
        "  # Lambda: lapse rate\n",
        "\n",
        "  # OUTPUT:\n",
        "  # figure showing relationship between parameters and function \n",
        "\n",
        "\n",
        "  # annoymous function to evalute curve \n",
        "  func = lambda x, signal: x[2] + (1 - x[2] - x[3]) * (1 / (1 + np.exp(-x[1]*(signal - x[0])))) # alpha, beta, gamma, lambda\n",
        "\n",
        "  # plot \n",
        "  plt.figure()\n",
        "  plt.scatter(stimuli, p_correct)\n",
        "  x = np.arange(0, 10, step=0.01)\n",
        "  plt.plot(x, func([Alpha, Beta, Gamma, Lambda], x), linewidth=2)\n",
        "  plt.xlabel('Stimuli')\n",
        "  plt.ylabel('p(correct)')\n",
        "  plt.show()"
      ],
      "execution_count": null,
      "outputs": []
    },
    {
      "cell_type": "code",
      "metadata": {
        "colab": {
          "base_uri": "https://localhost:8080/",
          "height": 407,
          "referenced_widgets": [
            "67583f3a5fe9494a9b3a4f757fd27708",
            "2a58375a930f4e8d8e33a19796c28375",
            "58b4d0bcc8dd4ce4852c9f4aa7c89070",
            "fdf2b8c00b2c4a07a786c2f026a11c25",
            "d018d27e8332484c932345e9db1b6791",
            "46ecb3b0788442f69d8f23d1be53deef",
            "37c08f5e0daf43c8a1c9290a3dfbcad6",
            "fff5ea995cf4433bb82360fc80098e7e",
            "76a6d90cc60b48f4b3512377aa614129",
            "21edadcd17ca4d01965e4621896a5526",
            "0b7d9f33abc443f4ae9fb527f6255376",
            "3f06a1fda895493ab70731f064ded9b7",
            "99d5e7e535674139bc7985996dfbe4aa",
            "f69282463c134f03b276bb9d0c35e53f",
            "8714a2567ff941cabc3ebd50ca1c2a60",
            "b409783ba098495d8ef10734b128e476"
          ]
        },
        "id": "GqFbzY_QZgWJ",
        "outputId": "f9a50b3a-7060-4336-83c2-5af39ee35ebe"
      },
      "source": [
        "# Understand relationship between parameters and curve\n",
        "w = widgets.interact(hand_min, Alpha = (0,10,0.5), Beta = (0,25,0.5), Gamma = (0,1,0.01), Lambda = (0,1,0.01));"
      ],
      "execution_count": null,
      "outputs": [
        {
          "output_type": "display_data",
          "data": {
            "application/vnd.jupyter.widget-view+json": {
              "model_id": "67583f3a5fe9494a9b3a4f757fd27708",
              "version_minor": 0,
              "version_major": 2
            },
            "text/plain": [
              "interactive(children=(FloatSlider(value=5.0, description='Alpha', max=10.0, step=0.5), FloatSlider(value=12.0,…"
            ]
          },
          "metadata": {
            "tags": []
          }
        }
      ]
    },
    {
      "cell_type": "code",
      "metadata": {
        "id": "XqbcuqPsQFwJ",
        "cellView": "form"
      },
      "source": [
        "#@title negative log likelihood function \n",
        "def negloglik(Alpha, Beta, Gamma, Lambda, signal, trials, correct):\n",
        "  # INPUTS:\n",
        "  # Alpha: midpoint \n",
        "  # Beta: slope\n",
        "  # Gamma: guess rate\n",
        "  # Lambda: lapse rate\n",
        "  # signal: stimuli signals (N X 1)\n",
        "  # trials: total number of trials per signal (N X 1)\n",
        "  # correct: number of correct trials per signal (N X 1)\n",
        "\n",
        "  # OUTPUT:\n",
        "  # nll: negative log likelihood \n",
        "\n",
        "  # sigmoid\n",
        "  pcI = Gamma + (1 - Gamma - Lambda) * (1 / (1 + np.exp(-Beta*(signal - Alpha))))\n",
        "\n",
        "  # negative log likelihood \n",
        "  nll = -sum(correct * np.log(pcI) + (trials - correct) * (np.log(1 - pcI)))\n",
        "\n",
        "  return nll"
      ],
      "execution_count": null,
      "outputs": []
    },
    {
      "cell_type": "code",
      "metadata": {
        "colab": {
          "base_uri": "https://localhost:8080/"
        },
        "id": "hdpajBCcP4su",
        "outputId": "9ebfb780-b59f-460a-e718-267131eb9934"
      },
      "source": [
        "# reshape \n",
        "stimuli = np.reshape(stimuli, newshape=[10,1])\n",
        "\n",
        "# write lambda (anonymous) function (thanks Hyosub)\n",
        "NLL = lambda x: negloglik(x[0], x[1], x[2], x[3], stimuli, trials, correct)\n",
        "# maximum likelihood estimation \n",
        "xopt = scipy.optimize.fmin(func=NLL, x0=np.array([5, 3, 0.25, 0]))\n",
        "print(xopt)"
      ],
      "execution_count": null,
      "outputs": [
        {
          "output_type": "stream",
          "text": [
            "Optimization terminated successfully.\n",
            "         Current function value: 83.675319\n",
            "         Iterations: 131\n",
            "         Function evaluations: 222\n",
            "[5.69235921 1.87397729 0.27316932 0.01584123]\n"
          ],
          "name": "stdout"
        }
      ]
    },
    {
      "cell_type": "code",
      "metadata": {
        "colab": {
          "base_uri": "https://localhost:8080/",
          "height": 279
        },
        "id": "1hFFcXnNXZZ4",
        "outputId": "b36dd20c-9dd7-4b1c-d9dd-9a955965bb2d"
      },
      "source": [
        "# annoymous function to evalute curve \n",
        "func = lambda x, signal: x[2] + (1 - x[2] - x[3]) * (1 / (1 + np.exp(-x[1]*(signal - x[0])))) # alpha, beta, gamma, lambda\n",
        "\n",
        "# Visualize \n",
        "plt.figure()\n",
        "plt.scatter(stimuli, p_correct)\n",
        "x = np.arange(0, 10, step=0.01)\n",
        "plt.plot(x, func(xopt, x), linewidth=2)\n",
        "plt.xlabel('Stimuli')\n",
        "plt.ylabel('p(correct)')\n",
        "plt.show()"
      ],
      "execution_count": null,
      "outputs": [
        {
          "output_type": "display_data",
          "data": {
            "image/png": "[encoded data removed]",
            "text/plain": [
              "<Figure size 432x288 with 1 Axes>"
            ]
          },
          "metadata": {
            "tags": [],
            "needs_background": "dark"
          }
        }
      ]
    },
    {
      "cell_type": "markdown",
      "metadata": {
        "id": "5VogCtPpbgnj"
      },
      "source": [
        "# Non-Parametric Bootstrap"
      ]
    },
    {
      "cell_type": "markdown",
      "metadata": {
        "id": "jj9uDSgYnQbj"
      },
      "source": [
        "Double click $\\textbf{here}$ for answer  \n",
        "\n",
        "<!-- # pre-set\n",
        "nboots=500 # number of iterations \n",
        "b_coeffs = np.zeros(shape=[nboots,4]) # empty array \n",
        "\n",
        "# simulate \n",
        "for i in np.arange(0,nboots):\n",
        "\n",
        "  # empty array \n",
        "  sim_correct = np.zeros(shape=[10,1])\n",
        "\n",
        "  for ii, v in enumerate(stimuli):\n",
        "\n",
        "    # data \n",
        "    stim_resp = EXP[EXP['stimuli'] == v[0]][['stimuli', 'direction', 'response']]\n",
        "\n",
        "    # Correct\n",
        "    correct = stim_resp['direction'] == stim_resp['response']\n",
        "\n",
        "    # resample with replacement\n",
        "    sim_resp = np.random.choice(correct, size=np.shape(correct), replace=True)\n",
        "\n",
        "    # number correct \n",
        "    sim_correct[ii] = sum(sim_resp)\n",
        "\n",
        "  # fit curve \n",
        "  NLL = lambda x: negloglik(x[0], x[1], x[2], x[3], stimuli, trials, sim_correct)\n",
        "  b_coeffs[i,:] = scipy.optimize.fmin(func=NLL, x0=np.array([5, 3, 0.25, 0])); -->"
      ]
    },
    {
      "cell_type": "code",
      "metadata": {
        "id": "E_pXnHs0biCg"
      },
      "source": [
        "# # pre-set\n",
        "# nboots = # number of iterations \n",
        "# b_coeffs =  # empty array \n",
        "\n",
        "# # simulate \n",
        "# for i in np.arange(0,nboots):\n",
        "\n",
        "#   # empty array \n",
        "#   sim_correct = np.zeros(shape=[10,1])\n",
        "\n",
        "#   for ii, v in enumerate(stimuli):\n",
        "\n",
        "#     # data \n",
        "#     stim_resp = \n",
        "\n",
        "#     # Correct\n",
        "#     correct = \n",
        "\n",
        "#     # resample with replacement\n",
        "#     sim_resp = \n",
        "\n",
        "#     # number correct \n",
        "#     sim_correct[ii] = \n",
        "\n",
        "#   # fit curve \n",
        "#   NLL = lambda x: negloglik(x[0], x[1], x[2], x[3], stimuli, trials, sim_correct)\n",
        "#   b_coeffs[i,:] = scipy.optimize.fmin(func=NLL, x0=np.array([5, 3, 0.25, 0]));"
      ],
      "execution_count": null,
      "outputs": []
    },
    {
      "cell_type": "code",
      "metadata": {
        "id": "ta5CfLdcldwL"
      },
      "source": [
        "# # Visualize \n",
        "# plt.figure(figsize=(8,8))\n",
        "# for i in range(4):\n",
        "#   plt.subplot(2,2,i+1);\n",
        "#   plt.hist(b_coeffs[:,i])\n",
        "#   if i == 0:\n",
        "#     plt.title('alpha')\n",
        "#   elif i == 1:\n",
        "#     plt.title('beta')\n",
        "#   elif i == 2:\n",
        "#     plt.title('gamma')\n",
        "#   else:\n",
        "#     plt.title('lambda')\n",
        "\n",
        "# plt.suptitle('Non-parametric boostrap')\n",
        "# plt.show()"
      ],
      "execution_count": null,
      "outputs": []
    }
  ]
}